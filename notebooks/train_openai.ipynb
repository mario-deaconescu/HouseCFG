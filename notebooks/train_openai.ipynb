{
 "cells": [
  {
   "metadata": {
    "ExecuteTime": {
     "end_time": "2025-04-29T18:32:16.978529Z",
     "start_time": "2025-04-29T18:32:15.815392Z"
    }
   },
   "cell_type": "code",
   "source": [
    "%load_ext autoreload\n",
    "%autoreload 2"
   ],
   "id": "34d920d5b84a4f8e",
   "outputs": [],
   "execution_count": 1
  },
  {
   "cell_type": "code",
   "id": "initial_id",
   "metadata": {
    "collapsed": true,
    "ExecuteTime": {
     "end_time": "2025-04-29T18:32:28.326038Z",
     "start_time": "2025-04-29T18:32:17.176477Z"
    }
   },
   "source": "from src.rplan_masks.openai_trainer import OpenaiTrainer",
   "outputs": [],
   "execution_count": 2
  },
  {
   "metadata": {
    "ExecuteTime": {
     "start_time": "2025-04-29T18:32:28.426467Z"
    }
   },
   "cell_type": "code",
   "source": [
    "trainer = OpenaiTrainer(save_interval=500, lr=1e-4, mask_size=64, batch_size=8, checkpoint_path='../checkpoints_unet_openai')\n",
    "trainer.train()"
   ],
   "id": "f41900b7043a89fc",
   "outputs": [
    {
     "name": "stdout",
     "output_type": "stream",
     "text": [
      "Loading cached RPlan dataset\n",
      "Epoch 0, Batch 0, Loss 2.5083389282226562, Load time 4.940994024276733, Train time 33.940794944763184\n"
     ]
    }
   ],
   "execution_count": null
  },
  {
   "metadata": {},
   "cell_type": "code",
   "outputs": [],
   "execution_count": null,
   "source": "",
   "id": "8e6a6ebeb4ef098e"
  }
 ],
 "metadata": {
  "kernelspec": {
   "display_name": "Python 3",
   "language": "python",
   "name": "python3"
  },
  "language_info": {
   "codemirror_mode": {
    "name": "ipython",
    "version": 2
   },
   "file_extension": ".py",
   "mimetype": "text/x-python",
   "name": "python",
   "nbconvert_exporter": "python",
   "pygments_lexer": "ipython2",
   "version": "2.7.6"
  }
 },
 "nbformat": 4,
 "nbformat_minor": 5
}
