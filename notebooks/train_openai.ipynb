{
 "cells": [
  {
   "metadata": {
    "ExecuteTime": {
     "end_time": "2025-04-29T22:35:31.690662Z",
     "start_time": "2025-04-29T22:35:31.399255Z"
    }
   },
   "cell_type": "code",
   "source": [
    "%load_ext autoreload\n",
    "%autoreload 2"
   ],
   "id": "34d920d5b84a4f8e",
   "outputs": [],
   "execution_count": 1
  },
  {
   "cell_type": "code",
   "id": "initial_id",
   "metadata": {
    "collapsed": true,
    "ExecuteTime": {
     "end_time": "2025-04-29T22:35:39.598341Z",
     "start_time": "2025-04-29T22:35:31.918568Z"
    }
   },
   "source": "from src.rplan_masks.openai_trainer import OpenaiTrainer",
   "outputs": [],
   "execution_count": 2
  },
  {
   "metadata": {
    "jupyter": {
     "is_executing": true
    },
    "ExecuteTime": {
     "start_time": "2025-04-29T22:35:39.693249Z"
    }
   },
   "cell_type": "code",
   "source": [
    "trainer = OpenaiTrainer(save_interval=500, lr=1e-4, mask_size=64, batch_size=1, checkpoint_path='../checkpoints_unet_openai')\n",
    "trainer.train()"
   ],
   "id": "f41900b7043a89fc",
   "outputs": [
    {
     "name": "stdout",
     "output_type": "stream",
     "text": [
      "Loading cached RPlan dataset\n"
     ]
    }
   ],
   "execution_count": null
  },
  {
   "metadata": {},
   "cell_type": "code",
   "outputs": [],
   "execution_count": null,
   "source": "",
   "id": "8e6a6ebeb4ef098e"
  }
 ],
 "metadata": {
  "kernelspec": {
   "display_name": "Python 3",
   "language": "python",
   "name": "python3"
  },
  "language_info": {
   "codemirror_mode": {
    "name": "ipython",
    "version": 2
   },
   "file_extension": ".py",
   "mimetype": "text/x-python",
   "name": "python",
   "nbconvert_exporter": "python",
   "pygments_lexer": "ipython2",
   "version": "2.7.6"
  }
 },
 "nbformat": 4,
 "nbformat_minor": 5
}
