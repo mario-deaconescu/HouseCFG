{
 "cells": [
  {
   "cell_type": "code",
   "id": "initial_id",
   "metadata": {
    "collapsed": true,
    "ExecuteTime": {
     "end_time": "2025-04-30T13:48:14.779050Z",
     "start_time": "2025-04-30T13:48:14.777015Z"
    }
   },
   "source": [
    "import torch\n",
    "from cleanfid import fid"
   ],
   "outputs": [],
   "execution_count": 9
  },
  {
   "metadata": {
    "ExecuteTime": {
     "end_time": "2025-04-30T13:49:12.283709Z",
     "start_time": "2025-04-30T13:49:12.268757Z"
    }
   },
   "cell_type": "code",
   "source": [
    "def calculate_fid(path: str) -> float:\n",
    "    return fid.compute_fid(path, dataset_name=\"eval_gt_stats\", verbose=True, batch_size=32, device=torch.device(\"mps\"), num_workers=0,\n",
    "          mode=\"clean\", dataset_split=\"custom\")"
   ],
   "id": "157d0a3e30eaf26f",
   "outputs": [],
   "execution_count": 19
  },
  {
   "metadata": {
    "ExecuteTime": {
     "end_time": "2025-04-30T13:49:12.690882Z",
     "start_time": "2025-04-30T13:49:12.688490Z"
    }
   },
   "cell_type": "code",
   "source": [
    "outputs = {\n",
    "    'Bubbles Unconditioned': '/Users/mariodeaconescu/Library/CloudStorage/GoogleDrive-mariodeaconescu2003@gmail.com/My Drive/ColabFiles/diffusion_generation/export/eval/sample_bubbles_100_unconditioned',\n",
    "    'Room Types Unconditioned': '/Users/mariodeaconescu/Library/CloudStorage/GoogleDrive-mariodeaconescu2003@gmail.com/My Drive/ColabFiles/diffusion_generation/export/eval/sample_room_type_100_unconditioned',\n",
    "    'Room Types Conditioned': '/Users/mariodeaconescu/Library/CloudStorage/GoogleDrive-mariodeaconescu2003@gmail.com/My Drive/ColabFiles/diffusion_generation/export/eval/sample_room_type_100',\n",
    "}"
   ],
   "id": "7628c55423db4ce3",
   "outputs": [],
   "execution_count": 20
  },
  {
   "metadata": {
    "jupyter": {
     "is_executing": true
    },
    "ExecuteTime": {
     "start_time": "2025-04-30T13:49:13.175373Z"
    }
   },
   "cell_type": "code",
   "source": "stats = {name: calculate_fid(path) for name, path in outputs.items()}",
   "id": "4ef270adc39c17d9",
   "outputs": [
    {
     "name": "stdout",
     "output_type": "stream",
     "text": [
      "compute FID of a folder with eval_gt_stats statistics\n",
      "Found 1024 images in the folder /Users/mariodeaconescu/Library/CloudStorage/GoogleDrive-mariodeaconescu2003@gmail.com/My Drive/ColabFiles/diffusion_generation/export/eval/sample_bubbles_100_unconditioned\n"
     ]
    },
    {
     "name": "stderr",
     "output_type": "stream",
     "text": [
      "FID sample_bubbles_100_unconditioned :   0%|          | 0/32 [00:00<?, ?it/s]"
     ]
    }
   ],
   "execution_count": null
  },
  {
   "metadata": {},
   "cell_type": "code",
   "outputs": [],
   "execution_count": null,
   "source": "",
   "id": "bb6259e69dd7ca47"
  },
  {
   "metadata": {},
   "cell_type": "code",
   "outputs": [],
   "execution_count": null,
   "source": "",
   "id": "b478d1e9cb82ea44"
  }
 ],
 "metadata": {
  "kernelspec": {
   "display_name": "Python 3",
   "language": "python",
   "name": "python3"
  },
  "language_info": {
   "codemirror_mode": {
    "name": "ipython",
    "version": 2
   },
   "file_extension": ".py",
   "mimetype": "text/x-python",
   "name": "python",
   "nbconvert_exporter": "python",
   "pygments_lexer": "ipython2",
   "version": "2.7.6"
  }
 },
 "nbformat": 4,
 "nbformat_minor": 5
}
