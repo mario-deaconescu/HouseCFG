{
 "cells": [
  {
   "cell_type": "code",
   "id": "initial_id",
   "metadata": {
    "collapsed": true,
    "ExecuteTime": {
     "end_time": "2025-04-29T11:51:16.482121Z",
     "start_time": "2025-04-29T11:51:07.179709Z"
    }
   },
   "source": [
    "from src.rplan.dataset import RPlanTorchDataset\n",
    "from src.rplan.types import TorchTransformerPlan\n",
    "\n"
   ],
   "outputs": [],
   "execution_count": 1
  },
  {
   "metadata": {
    "ExecuteTime": {
     "end_time": "2025-04-29T11:51:46.642414Z",
     "start_time": "2025-04-29T11:51:16.779533Z"
    }
   },
   "cell_type": "code",
   "source": "dataset = RPlanTorchDataset(data_path='../data/rplan', max_room_points=32, max_total_points=100, cache_path='../data/filters')",
   "id": "58a9026f0ed59d8d",
   "outputs": [
    {
     "name": "stdout",
     "output_type": "stream",
     "text": [
      "Loading cached RPlan dataset\n",
      "Creating filter\n"
     ]
    },
    {
     "data": {
      "text/plain": [
       "  0%|          | 0/77289 [00:00<?, ?it/s]"
      ],
      "application/vnd.jupyter.widget-view+json": {
       "version_major": 2,
       "version_minor": 0,
       "model_id": "5595ed65263648b892aa348cb1ff2ce2"
      }
     },
     "metadata": {},
     "output_type": "display_data"
    },
    {
     "name": "stdout",
     "output_type": "stream",
     "text": [
      "Initalized filter with 77173 valid entries out of 77289\n"
     ]
    }
   ],
   "execution_count": 2
  },
  {
   "metadata": {
    "ExecuteTime": {
     "end_time": "2025-04-29T11:51:48.192936Z",
     "start_time": "2025-04-29T11:51:46.680421Z"
    }
   },
   "cell_type": "code",
   "source": "sample = dataset[0]",
   "id": "c163898f3a17f7ea",
   "outputs": [],
   "execution_count": 3
  },
  {
   "metadata": {
    "ExecuteTime": {
     "end_time": "2025-04-29T12:04:08.973244Z",
     "start_time": "2025-04-29T12:04:08.913576Z"
    }
   },
   "cell_type": "code",
   "source": "sample.conditions.src_key_padding_mask",
   "id": "e20b031bc0dec6ee",
   "outputs": [
    {
     "data": {
      "text/plain": [
       "tensor([False, False, False, False, False, False, False, False, False, False,\n",
       "        False, False, False, False, False, False, False, False, False, False,\n",
       "        False, False, False, False, False, False, False, False, False, False,\n",
       "        False, False, False, False, False, False, False, False, False, False,\n",
       "        False, False,  True,  True,  True,  True,  True,  True,  True,  True,\n",
       "         True,  True,  True,  True,  True,  True,  True,  True,  True,  True,\n",
       "         True,  True,  True,  True,  True,  True,  True,  True,  True,  True,\n",
       "         True,  True,  True,  True,  True,  True,  True,  True,  True,  True,\n",
       "         True,  True,  True,  True,  True,  True,  True,  True,  True,  True,\n",
       "         True,  True,  True,  True,  True,  True,  True,  True,  True,  True])"
      ]
     },
     "execution_count": 9,
     "metadata": {},
     "output_type": "execute_result"
    }
   ],
   "execution_count": 9
  },
  {
   "metadata": {},
   "cell_type": "code",
   "outputs": [],
   "execution_count": null,
   "source": "",
   "id": "58afced959894edc"
  }
 ],
 "metadata": {
  "kernelspec": {
   "display_name": "Python 3",
   "language": "python",
   "name": "python3"
  },
  "language_info": {
   "codemirror_mode": {
    "name": "ipython",
    "version": 2
   },
   "file_extension": ".py",
   "mimetype": "text/x-python",
   "name": "python",
   "nbconvert_exporter": "python",
   "pygments_lexer": "ipython2",
   "version": "2.7.6"
  }
 },
 "nbformat": 4,
 "nbformat_minor": 5
}
